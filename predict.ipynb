{
 "cells": [
  {
   "cell_type": "code",
   "execution_count": 6,
   "metadata": {},
   "outputs": [],
   "source": [
    "import numpy as np\n",
    "from sklearn.preprocessing import StandardScaler\n",
    "from sklearn.neighbors import KNeighborsClassifier\n",
    "import joblib"
   ]
  },
  {
   "cell_type": "code",
   "execution_count": 7,
   "metadata": {},
   "outputs": [],
   "source": [
    "# Chargez les données\n",
    "new_data = np.array([[30, 87000]])  # Exemple de nouvelles données\n",
    "\n",
    "# Mise à l'échelle des caractéristiques\n",
    "scaler = StandardScaler()\n",
    "new_data_scaled = scaler.fit_transform(new_data)\n"
   ]
  },
  {
   "cell_type": "code",
   "execution_count": 8,
   "metadata": {},
   "outputs": [],
   "source": [
    "# Chargez le modèle K-NN\n",
    "loaded_model = joblib.load('knn_model.pkl')\n",
    "\n",
    "# Prédiction avec le modèle chargé\n",
    "prediction = loaded_model.predict(new_data_scaled)\n",
    "\n",
    "\n",
    "# Chargez les poids du modèle (s'il a été sauvegardé)\n",
    "# classifier.load_weights('nom_du_fichier.h5')\n",
    "\n",
    "# Entraînez à nouveau le modèle (s'il n'a pas été sauvegardé)\n",
    "# classifier.fit(X_train, y_train)\n"
   ]
  },
  {
   "cell_type": "code",
   "execution_count": 9,
   "metadata": {},
   "outputs": [
    {
     "name": "stdout",
     "output_type": "stream",
     "text": [
      "Prédiction : [0]\n"
     ]
    }
   ],
   "source": [
    "# Prédiction\n",
    "\n",
    "# Affichage du résultat\n",
    "print(\"Prédiction :\", prediction)\n"
   ]
  }
 ],
 "metadata": {
  "kernelspec": {
   "display_name": "Python 3",
   "language": "python",
   "name": "python3"
  },
  "language_info": {
   "codemirror_mode": {
    "name": "ipython",
    "version": 3
   },
   "file_extension": ".py",
   "mimetype": "text/x-python",
   "name": "python",
   "nbconvert_exporter": "python",
   "pygments_lexer": "ipython3",
   "version": "3.10.12"
  }
 },
 "nbformat": 4,
 "nbformat_minor": 2
}
